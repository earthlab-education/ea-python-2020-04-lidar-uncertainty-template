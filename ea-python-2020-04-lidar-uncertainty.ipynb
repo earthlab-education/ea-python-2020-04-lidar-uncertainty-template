{
 "cells": [
  {
   "cell_type": "markdown",
   "metadata": {},
   "source": [
    "<img style=\"float: left;\" src=\"earth-lab-logo-rgb.png\" width=\"150\" height=\"150\" />\n",
    "\n",
    "# Earth Analytics Python Course: Spring 2020"
   ]
  },
  {
   "cell_type": "markdown",
   "metadata": {},
   "source": [
    "Before submitting this assignment, be sure to restart the kernel and run all cells. To do this, pull down the Kernel drop down at the top of this notebook. Then select **restart and run all**.\n",
    "\n",
    "Make sure you fill in any place that says `YOUR CODE HERE` or \"YOUR ANSWER HERE\", as well as your name and collaborators below."
   ]
  },
  {
   "cell_type": "code",
   "execution_count": null,
   "metadata": {},
   "outputs": [],
   "source": [
    "NAME = \"\"\n",
    "COLLABORATORS = \"\""
   ]
  },
  {
   "cell_type": "markdown",
   "metadata": {},
   "source": [
    "![Colored Bar](colored-bar.png)"
   ]
  },
  {
   "cell_type": "markdown",
   "metadata": {
    "deletable": false,
    "editable": false,
    "nbgrader": {
     "cell_type": "markdown",
     "checksum": "412a527cf45ec39d6bbb005c98ba0e0c",
     "grade": false,
     "grade_id": "cell-47760d5e1e423131",
     "locked": true,
     "schema_version": 3,
     "solution": false,
     "task": false
    }
   },
   "source": [
    "## Week 04 - Lidar Data Compared to Ground Measurements: Understanding Uncertainty\n",
    "\n",
    "This week you will work with lidar data again! This time you will explore the values in a lidar dataset - specifically tree height from a canopy height model. You will compare these measurements to the same types of measurements made by humans in the field. You will use all of the raster and vector spatial data skills, combined with some pandas skills that you have gained so far this semester to complete this assignment. \n",
    "\n",
    "Youu will use the same data as you used for last week's homework. You can download it from earthpy using: `et.data.get_data('spatial-vector-lidar')`\n",
    "\n",
    "\n",
    "### IMPORTANT: For All Plots\n",
    "\n",
    "* Label x and y axes appropriately - include units\n",
    "* Add a title to your plot that describes what the plot shows\n",
    "* Ensure that your notebook is fully reproducible. This means you will\n",
    "   * Create reproducible paths using the os module\n",
    "   * Download the data using code in the notebook: NOTE: the `et.get_data` function will not download the data again if you already have it so it's safe to add without worry of slowing down your notebook!! \n"
   ]
  },
  {
   "cell_type": "markdown",
   "metadata": {
    "deletable": false,
    "editable": false,
    "nbgrader": {
     "cell_type": "markdown",
     "checksum": "770e92ae1d7e02885bbbbbdbcea018ee",
     "grade": false,
     "grade_id": "cell-fdb313a690f2d6df",
     "locked": true,
     "schema_version": 3,
     "solution": false,
     "task": false
    }
   },
   "source": [
    "![Colored Bar](colored-bar.png)"
   ]
  },
  {
   "cell_type": "markdown",
   "metadata": {
    "deletable": false,
    "editable": false,
    "nbgrader": {
     "cell_type": "markdown",
     "checksum": "e27c87eaaff22906b75f02fac0fe0950",
     "grade": false,
     "grade_id": "cell-b53090a25a65d299",
     "locked": true,
     "schema_version": 3,
     "solution": false,
     "task": false
    }
   },
   "source": [
    "## Plots 1 - 4: Scatterplots With Regression & a 1:1 Line\n",
    "\n",
    "\n",
    "\n",
    "For both the SJER and SOAP field sites, create scatter plots that compare:\n",
    "\n",
    "* **MAXIMUM** canopy height model height in meters, extracted within a 20 meter radius, compared to **MAXIMUM** tree\n",
    "height derived from the *insitu* field site data.\n",
    "* **MEAN** canopy height model height in meters, extracted within a 20 meter radius, compared to **MEAN** tree height derived from the *insitu* field site data.\n",
    "\n",
    "For each of these plots be sure to:\n",
    "\n",
    "1. Place lidar data values on the X axis and human measured tree height on the Y axis\n",
    "2. Include a calculated **regression line** (HINT use `sns.plot()` to achieve this line) that describes the relationship of lidar of the data\n",
    "3. Include a separate **1:1 line** that can be used to compare the regression fit to a perfect 1:1 fit. \n",
    "4. Set the x and y limits to be the SAME for each individual plot. This means that for plot 3 the x and y limits are the same. For plot 4 the x and y limits are the same. NOTE: You may have different limits for each plot depending on the data being rendered. Thus plot 3 x and plot 3 y axis may be the same. But plot 3 x axis does NOT need to be the same as plot 4 x axis. \n",
    "5. Plot the SJER plots within one figure using two ax elements (ax1, ax2) \n",
    "6. Plot the SOAP plots within one figure using two ax elements (ax1, ax2) \n",
    "\n",
    "HINT: the SOAP data have some inconsistencies in the column headings. One way to fix this is to use the syntax:\n",
    "\n",
    "`\"text-to-append-to-column\" + dataframe_name[\"column-name-here\"]`\n"
   ]
  },
  {
   "cell_type": "code",
   "execution_count": null,
   "metadata": {
    "deletable": false,
    "editable": false,
    "nbgrader": {
     "cell_type": "code",
     "checksum": "d1973835e24e7d532bf1b496917ef671",
     "grade": false,
     "grade_id": "cell-59e0e907199a678c",
     "locked": true,
     "schema_version": 3,
     "solution": false,
     "task": false
    }
   },
   "outputs": [],
   "source": [
    "# Autograding imports - do not modify this cell\n",
    "import matplotcheck.notebook as nb\n",
    "import matplotcheck.autograde as ag\n",
    "import matplotcheck.base as pt"
   ]
  },
  {
   "cell_type": "code",
   "execution_count": null,
   "metadata": {
    "deletable": false,
    "nbgrader": {
     "cell_type": "code",
     "checksum": "6651ca088e96fa5c1d79af27163afeae",
     "grade": true,
     "grade_id": "cell-5b2cebd23d045fc1",
     "locked": false,
     "points": 5,
     "schema_version": 3,
     "solution": true,
     "task": false
    }
   },
   "outputs": [],
   "source": [
    "# Import required libraries here\n",
    "\n",
    "# YOUR CODE HERE\n",
    "raise NotImplementedError()"
   ]
  },
  {
   "cell_type": "markdown",
   "metadata": {
    "deletable": false,
    "editable": false,
    "nbgrader": {
     "cell_type": "markdown",
     "checksum": "d7c1966cd2398d23ce1ee4f4015bf9d5",
     "grade": false,
     "grade_id": "cell-89e49aa75342dc2b",
     "locked": true,
     "schema_version": 3,
     "solution": false,
     "task": false
    }
   },
   "source": [
    "![Colored Bar](colored-bar.png)"
   ]
  },
  {
   "cell_type": "markdown",
   "metadata": {
    "deletable": false,
    "editable": false,
    "nbgrader": {
     "cell_type": "markdown",
     "checksum": "eb6fbce18361af00ae94c16699e8bb29",
     "grade": false,
     "grade_id": "cell-ca32ef47a3108cbb",
     "locked": true,
     "schema_version": 3,
     "solution": false,
     "task": false
    }
   },
   "source": [
    "## Part 1 | Figure 1: Plots 1 & 2 - SJER Lidar vs Insitu Comparison Plots (15 points for each subplot)\n",
    "\n",
    "You will use the following SJER data for this figure:\n",
    "* `spatial-vector-lidar/california/neon-sjer-site/2013/insitu/veg_structure/D17_2013_SJER_vegStr.csv`\n",
    "* `spatial-vector-lidar/california/neon-sjer-site/vector_data/SJER_plot_centroids.shp`\n",
    "\n",
    "Create a figure with 2 subplots.\n",
    "* Plot 1 should show **max** lidar vs insitu height with lidar on the x axis and insitu height on the y axis.\n",
    "* Plot 2 should show **mean** lidar vs insitu height with lidar on the x axis and insitu height on the y axis.\n",
    "\n",
    "For each plot:\n",
    "\n",
    "1. Set the x and y lims to be the same range: `(0, 30)` using `xlim=` and `ylim=`. This will make the plots more comparable\n",
    "2. Add a title that includes the field site NAME and the measurement being displayed (max or min height)\n",
    "3. Add a 1:1 line to each plot.\n",
    "4. Add a regression line using `sns.regplot()`. SNS is the alias for the seaborn plotting package (`import seaborn as sns`.\n",
    "\n",
    "To create this plot you will need to calculate a summary data frame for each site that contains lidar mean and max values and insitu (measured on the ground by humans) mean and max values.\n"
   ]
  },
  {
   "cell_type": "code",
   "execution_count": null,
   "metadata": {
    "deletable": false,
    "nbgrader": {
     "cell_type": "code",
     "checksum": "1fd5b4c3527b71c170188f63eae0062a",
     "grade": false,
     "grade_id": "cell-e4e62e37d8d99dd3",
     "locked": false,
     "schema_version": 3,
     "solution": true,
     "task": false
    }
   },
   "outputs": [],
   "source": [
    "# Import SJER plot locations & insitu data\n",
    "\n",
    "# YOUR CODE HERE\n",
    "raise NotImplementedError()"
   ]
  },
  {
   "cell_type": "code",
   "execution_count": null,
   "metadata": {
    "deletable": false,
    "nbgrader": {
     "cell_type": "code",
     "checksum": "03aab67dc57d5057042f8f31ad2f208f",
     "grade": false,
     "grade_id": "cell-4bc44d89be8ba6f3",
     "locked": false,
     "schema_version": 3,
     "solution": true,
     "task": false
    }
   },
   "outputs": [],
   "source": [
    "# SJER Data -- Import lidar chm, run zonal stats on data\n",
    "\n",
    "\n",
    "# YOUR CODE HERE\n",
    "raise NotImplementedError()"
   ]
  },
  {
   "cell_type": "code",
   "execution_count": null,
   "metadata": {
    "deletable": false,
    "nbgrader": {
     "cell_type": "code",
     "checksum": "0f2d771d81c77e86a80e0e5ee80da924",
     "grade": false,
     "grade_id": "cell-6246b06668665e88",
     "locked": false,
     "schema_version": 3,
     "solution": true,
     "task": false
    }
   },
   "outputs": [],
   "source": [
    "# SJER -- Calculate mean and max from insitu data (csv file)\n",
    "\n",
    "# YOUR CODE HERE\n",
    "raise NotImplementedError()"
   ]
  },
  {
   "cell_type": "code",
   "execution_count": null,
   "metadata": {
    "caption": "Plots of lidar min and max vs insitu min and max with a 1:1 line a regression fit for the NEON SJER field site.",
    "deletable": false,
    "nbgrader": {
     "cell_type": "code",
     "checksum": "afe293fe106aa8df0c4e476e516bef0e",
     "grade": false,
     "grade_id": "cell-42961eda096ade67",
     "locked": false,
     "schema_version": 3,
     "solution": true,
     "task": false
    }
   },
   "outputs": [],
   "source": [
    "# Plot 1 & 2 - SJER  mean and max - plot code only in this cell\n",
    "\n",
    "# YOUR CODE HERE\n",
    "raise NotImplementedError()\n",
    "### DO NOT REMOVE LINE BELOW ###\n",
    "fig01_sjer_max_v_mean = nb.convert_axes(plt, which_axes=\"all\")"
   ]
  },
  {
   "cell_type": "code",
   "execution_count": null,
   "metadata": {
    "deletable": false,
    "editable": false,
    "nbgrader": {
     "cell_type": "code",
     "checksum": "f3354d12b0925807bd4961e96fb988b4",
     "grade": true,
     "grade_id": "cell-fe6cbbe63469d83e",
     "locked": true,
     "points": 15,
     "schema_version": 3,
     "solution": false,
     "task": false
    }
   },
   "outputs": [],
   "source": [
    "# Tests for figure 1 ax 1 (plot 1) - max values\n",
    "# You can skip this cell!\n"
   ]
  },
  {
   "cell_type": "code",
   "execution_count": null,
   "metadata": {
    "deletable": false,
    "editable": false,
    "nbgrader": {
     "cell_type": "code",
     "checksum": "60e34c989baeab255b6d7d87cf2b3c3e",
     "grade": true,
     "grade_id": "cell-da06436c66ef144d",
     "locked": true,
     "points": 15,
     "schema_version": 3,
     "solution": false,
     "task": false
    }
   },
   "outputs": [],
   "source": [
    "# Tests for figure 1 ax 2 (plot 2) - mean values\n",
    "# You can skip this cell!\n"
   ]
  },
  {
   "cell_type": "code",
   "execution_count": null,
   "metadata": {
    "deletable": false,
    "nbgrader": {
     "cell_type": "code",
     "checksum": "d9e241f9367d82472060ca331f54a1eb",
     "grade": false,
     "grade_id": "cell-c23f56f28c7ba336",
     "locked": false,
     "schema_version": 3,
     "solution": true,
     "task": false
    }
   },
   "outputs": [],
   "source": [
    "# Import SOAP plot locations & insitu data & lidar\n",
    "\n",
    "# YOUR CODE HERE\n",
    "raise NotImplementedError()"
   ]
  },
  {
   "cell_type": "code",
   "execution_count": null,
   "metadata": {
    "deletable": false,
    "nbgrader": {
     "cell_type": "code",
     "checksum": "5ced75e53296a472826bcca37db8c3c1",
     "grade": false,
     "grade_id": "cell-194b991f7a1cafaa",
     "locked": false,
     "schema_version": 3,
     "solution": true,
     "task": false
    }
   },
   "outputs": [],
   "source": [
    "# SOAP Data -- Import lidar chm, run zonal stats on data\n",
    "# YOUR CODE HERE\n",
    "raise NotImplementedError()"
   ]
  },
  {
   "cell_type": "code",
   "execution_count": null,
   "metadata": {
    "deletable": false,
    "nbgrader": {
     "cell_type": "code",
     "checksum": "646f116a907d415a7ca491fef71a787e",
     "grade": false,
     "grade_id": "cell-ee28d4e5d0e57622",
     "locked": false,
     "schema_version": 3,
     "solution": true,
     "task": false
    }
   },
   "outputs": [],
   "source": [
    "# SOAP -- Calculate mean and max from insitu data (csv file), rename columns,\n",
    "# YOUR CODE HERE\n",
    "raise NotImplementedError()"
   ]
  },
  {
   "cell_type": "markdown",
   "metadata": {},
   "source": [
    "## Figure 2: Plots 3 & 4 - SOAP Lidar vs Insitu Comparison Plots\n",
    "\n",
    "You will use the following SOAP data for this figure:\n",
    "* `spatial-vector-lidar/california/neon-soap-site/2013/insitu/veg_structure/D17_2013_SOAP_vegStr.csv`\n",
    "* `spatial-vector-lidar/california/neon-soap-site/vector_data/SOAP_plot_centroids.shp`\n",
    "\n",
    "Create a figure with 2 subplots showing data from the NEON SOAPROOT SADDLE field site.\n",
    "* SubPlot 1 should show **max** lidar vs insitu height with lidar on the x axis and insitu height on the y axis.\n",
    "* SubPlot 2 should show **mean** lidar vs insitu height with lidar on the x axis and insitu height on the y axis.\n",
    "\n",
    "For each plot:\n",
    "\n",
    "1. Set the x and y lims to be the same range: `(0, 140)` using `xlim=` and `ylim=` for the SOAP Max height plot. Set the x and y lims to be `(0, 40)` for the SOAP mean height plot. \n",
    "2. Add a title that includes the field site NAME and the measurement being displayed (max or min height)\n",
    "3. Add a 1:1 line to each plot.\n",
    "4. Add a regression line using `sns.regplot()`\n",
    "\n",
    "To create this plot you will need to calculate a summary data frame for each site that contains lidar mean and max values and insitu (measured on the ground by humans) mean and max values."
   ]
  },
  {
   "cell_type": "code",
   "execution_count": null,
   "metadata": {
    "caption": "Plots of lidar min and max vs insitu min and max with a 1:1 line a regression fit for the NEON SOAP field site.",
    "deletable": false,
    "nbgrader": {
     "cell_type": "code",
     "checksum": "9b62aa6faad22d57f4183e630f471b92",
     "grade": false,
     "grade_id": "cell-588d85da229e53a5",
     "locked": false,
     "schema_version": 3,
     "solution": true,
     "task": false
    }
   },
   "outputs": [],
   "source": [
    "# Plot Code only for HW Plots 3 & 4 Here\n",
    "# YOUR CODE HERE\n",
    "raise NotImplementedError()\n",
    "\n",
    "### DO NOT REMOVE LINE BELOW ###\n",
    "plot02_soap_max_v_mean = nb.convert_axes(plt, which_axes=\"all\")"
   ]
  },
  {
   "cell_type": "code",
   "execution_count": null,
   "metadata": {
    "deletable": false,
    "editable": false,
    "nbgrader": {
     "cell_type": "code",
     "checksum": "0e9e4ab09698e4e76040cd1ac86505f0",
     "grade": true,
     "grade_id": "cell-b6c1983a729aac65",
     "locked": true,
     "points": 15,
     "schema_version": 3,
     "solution": false,
     "task": false
    }
   },
   "outputs": [],
   "source": [
    "# Figure 2, Subplot 1 Tests - SOAP max\n",
    "# You can skip this cell!\n"
   ]
  },
  {
   "cell_type": "code",
   "execution_count": null,
   "metadata": {
    "deletable": false,
    "editable": false,
    "nbgrader": {
     "cell_type": "code",
     "checksum": "93b7452d7b5ba3e923c1056b4a717290",
     "grade": true,
     "grade_id": "cell-7017491137892454",
     "locked": true,
     "points": 15,
     "schema_version": 3,
     "solution": false,
     "task": false
    }
   },
   "outputs": [],
   "source": [
    "# SOAP Subplot 2 - mean comparison\n",
    "# You can skip this cell!\n"
   ]
  },
  {
   "cell_type": "code",
   "execution_count": null,
   "metadata": {
    "deletable": false,
    "editable": false,
    "nbgrader": {
     "cell_type": "code",
     "checksum": "79e1510bbf74c511330203bf71d31db9",
     "grade": true,
     "grade_id": "cell-085942f69f4fb036",
     "locked": true,
     "points": 0,
     "schema_version": 3,
     "solution": false,
     "task": false
    }
   },
   "outputs": [],
   "source": []
  },
  {
   "cell_type": "markdown",
   "metadata": {
    "deletable": false,
    "editable": false,
    "nbgrader": {
     "cell_type": "markdown",
     "checksum": "b3f2f4d20d8464443ed1230c27d94b2d",
     "grade": false,
     "grade_id": "cell-e6b2ae1afbb096a5",
     "locked": true,
     "schema_version": 3,
     "solution": false,
     "task": false
    }
   },
   "source": [
    "![Colored Bar](colored-bar.png)"
   ]
  },
  {
   "cell_type": "markdown",
   "metadata": {
    "deletable": false,
    "editable": false,
    "nbgrader": {
     "cell_type": "markdown",
     "checksum": "ea7d808530cbd6d370299ceaf619b4e5",
     "grade": false,
     "grade_id": "cell-0c799a824131c361",
     "locked": true,
     "schema_version": 3,
     "solution": false,
     "task": false
    }
   },
   "source": [
    "## Question 1 Figure One: SJER mean vs max height -- Plots 1 and 2 Interpretation\n",
    "In the markdown cell below, answer the following questions:\n",
    "\n",
    "1. Looking at the plots above, which metric: mean or max height, has a stronger relationship or is closer to a one:one relationship?\n",
    "2. List one reason why mean or max (whatever you answered for question 1 above) has a stronger relationship.\n",
    "\n",
    "You answers can be brief -- a single word or sentence or two is fine. "
   ]
  },
  {
   "cell_type": "markdown",
   "metadata": {
    "deletable": false,
    "nbgrader": {
     "cell_type": "markdown",
     "checksum": "db07cb8575c2655cba27a84a9b988063",
     "grade": true,
     "grade_id": "cell-477e44b5d4645986",
     "locked": false,
     "points": 5,
     "schema_version": 3,
     "solution": true,
     "task": false
    }
   },
   "source": [
    "YOUR ANSWER HERE"
   ]
  },
  {
   "cell_type": "markdown",
   "metadata": {
    "deletable": false,
    "editable": false,
    "nbgrader": {
     "cell_type": "markdown",
     "checksum": "ba338a165e7685b0d5f05bee4e279eb3",
     "grade": false,
     "grade_id": "cell-2964732b30e970cc",
     "locked": true,
     "schema_version": 3,
     "solution": false,
     "task": false
    }
   },
   "source": [
    "![Colored Bar](colored-bar.png)"
   ]
  },
  {
   "cell_type": "markdown",
   "metadata": {
    "deletable": false,
    "editable": false,
    "nbgrader": {
     "cell_type": "markdown",
     "checksum": "71a30138a8d4961f1e5de0fd83f0831b",
     "grade": false,
     "grade_id": "cell-9045084f8e865876",
     "locked": true,
     "schema_version": 3,
     "solution": false,
     "task": false
    }
   },
   "source": [
    "\n",
    "## Question 2. Of all four relationships that you plotted above, which site (SOAP or SJER) and metric (mean or max height) showed the strongest relationship? \n",
    "\n",
    "**A strong relationship is one that is closer to 1:1 in this case.**\n",
    "\n",
    "Add your answer in the markdown cell below. It can be short - 2-5 sentences. You do not need to perform any additional calculations. Consider the readings and the data and suggest why a particular metric might have a strong relationship."
   ]
  },
  {
   "cell_type": "markdown",
   "metadata": {
    "deletable": false,
    "nbgrader": {
     "cell_type": "markdown",
     "checksum": "b9378d1c3b0c29f10f48793f2c17272c",
     "grade": true,
     "grade_id": "cell-30b0878dcef238f7",
     "locked": false,
     "points": 5,
     "schema_version": 3,
     "solution": true,
     "task": false
    },
    "slideshow": {
     "slide_type": "slide"
    }
   },
   "source": [
    "YOUR ANSWER HERE"
   ]
  },
  {
   "cell_type": "markdown",
   "metadata": {
    "deletable": false,
    "editable": false,
    "nbgrader": {
     "cell_type": "markdown",
     "checksum": "061d73ec91b10dc58d7aa5259bf582d8",
     "grade": false,
     "grade_id": "cell-769847a14a24ca66",
     "locked": true,
     "schema_version": 3,
     "solution": false,
     "task": false
    }
   },
   "source": [
    "![Colored Bar](colored-bar.png)"
   ]
  },
  {
   "cell_type": "markdown",
   "metadata": {
    "deletable": false,
    "editable": false,
    "nbgrader": {
     "cell_type": "markdown",
     "checksum": "c4e34ba43e68c752707854adc60e1288",
     "grade": false,
     "grade_id": "cell-51b5c21f07ba9920",
     "locked": true,
     "schema_version": 3,
     "solution": false,
     "task": false
    }
   },
   "source": [
    "## Question 3. List 2 reasons why lidar max height values may be larger than human measurements.\n",
    "\n",
    "Add your answer to the markdown cell below."
   ]
  },
  {
   "cell_type": "markdown",
   "metadata": {
    "deletable": false,
    "nbgrader": {
     "cell_type": "markdown",
     "checksum": "2b74024e073ab69a9359d6a0de950c8d",
     "grade": true,
     "grade_id": "cell-8a5a3d509b60ff87",
     "locked": false,
     "points": 5,
     "schema_version": 3,
     "solution": true,
     "task": false
    }
   },
   "source": [
    "YOUR ANSWER HERE"
   ]
  },
  {
   "cell_type": "markdown",
   "metadata": {
    "deletable": false,
    "editable": false,
    "nbgrader": {
     "cell_type": "markdown",
     "checksum": "61cee4ea05b8e828105f4f84c176691c",
     "grade": false,
     "grade_id": "cell-a6149051bb52876f",
     "locked": true,
     "schema_version": 3,
     "solution": false,
     "task": false
    }
   },
   "source": [
    "![Colored Bar](colored-bar.png)"
   ]
  },
  {
   "cell_type": "markdown",
   "metadata": {},
   "source": [
    "## Question 4. List 2 systematic sources of error could impact differences between lidar and measured tree height values ( 5 points)\n",
    "\n",
    "Add your answer in the markdown cell below."
   ]
  },
  {
   "cell_type": "markdown",
   "metadata": {
    "deletable": false,
    "nbgrader": {
     "cell_type": "markdown",
     "checksum": "0cefb6c9fda53fa4f4e5ee621b9561bd",
     "grade": true,
     "grade_id": "cell-77df25f0a68d337a",
     "locked": false,
     "points": 5,
     "schema_version": 3,
     "solution": true,
     "task": false
    }
   },
   "source": [
    "YOUR ANSWER HERE"
   ]
  },
  {
   "cell_type": "markdown",
   "metadata": {
    "deletable": false,
    "editable": false,
    "nbgrader": {
     "cell_type": "markdown",
     "checksum": "d57557d92ab11cfa65f0a64ed3f73196",
     "grade": false,
     "grade_id": "cell-e3f63381383526ab",
     "locked": true,
     "schema_version": 3,
     "solution": false,
     "task": false
    }
   },
   "source": [
    "![Colored Bar](colored-bar.png)"
   ]
  },
  {
   "cell_type": "markdown",
   "metadata": {
    "deletable": false,
    "editable": false,
    "nbgrader": {
     "cell_type": "markdown",
     "checksum": "befd67dd6c70929cd1ca50ec93d75635",
     "grade": false,
     "grade_id": "cell-d3d3d46c6bb43490",
     "locked": true,
     "schema_version": 3,
     "solution": false,
     "task": false
    }
   },
   "source": [
    "## Question 5. List 2 random sources of error that could impact differences between lidar and measured tree height values.  (5 points)\n",
    "\n",
    "Add your answer to the markdown cell below. Note that you can provide sources of random error for lidar OR insitu measurements. You only need two total examples. "
   ]
  },
  {
   "cell_type": "markdown",
   "metadata": {
    "deletable": false,
    "nbgrader": {
     "cell_type": "markdown",
     "checksum": "29f356d3851d30dd99ed536812ade2a9",
     "grade": true,
     "grade_id": "cell-7ed4ea5f093ca791",
     "locked": false,
     "points": 5,
     "schema_version": 3,
     "solution": true,
     "task": false
    }
   },
   "source": [
    "YOUR ANSWER HERE"
   ]
  },
  {
   "cell_type": "markdown",
   "metadata": {
    "deletable": false,
    "editable": false,
    "nbgrader": {
     "cell_type": "markdown",
     "checksum": "6884186e9b27ce7ffb25cffd942344fc",
     "grade": false,
     "grade_id": "cell-44f5a9ff97bb4534",
     "locked": true,
     "schema_version": 3,
     "solution": false,
     "task": false
    }
   },
   "source": [
    "![Colored Bar](colored-bar.png)"
   ]
  },
  {
   "cell_type": "markdown",
   "metadata": {
    "deletable": false,
    "editable": false,
    "nbgrader": {
     "cell_type": "markdown",
     "checksum": "80bfd18222b79ac175d74f7897acd153",
     "grade": false,
     "grade_id": "cell-362748aacc55d7ee",
     "locked": true,
     "points": 10,
     "schema_version": 3,
     "solution": false,
     "task": true
    }
   },
   "source": [
    "\n",
    "# Do not edit this cell!\n",
    "* Notebook begins at cell [1] and runs on any machine in its entirety\n",
    "* Pep8 format is applied throughout"
   ]
  }
 ],
 "metadata": {
  "kernelspec": {
   "display_name": "Python 3",
   "language": "python",
   "name": "python3"
  },
  "language_info": {
   "codemirror_mode": {
    "name": "ipython",
    "version": 3
   },
   "file_extension": ".py",
   "mimetype": "text/x-python",
   "name": "python",
   "nbconvert_exporter": "python",
   "pygments_lexer": "ipython3",
   "version": "3.7.6"
  }
 },
 "nbformat": 4,
 "nbformat_minor": 2
}
